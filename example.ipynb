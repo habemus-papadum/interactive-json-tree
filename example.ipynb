{
 "cells": [
  {
   "cell_type": "code",
   "execution_count": 1,
   "id": "68e3a008",
   "metadata": {},
   "outputs": [],
   "source": [
    "from interactive_json_tree import JSON"
   ]
  },
  {
   "cell_type": "code",
   "execution_count": 2,
   "id": "f8b16406",
   "metadata": {},
   "outputs": [],
   "source": [
    "example = {\n",
    "    \"name\": \"Acme Corp\",\n",
    "    \"employees\": [\n",
    "        {\"name\": \"Ada\", \"skills\": [\"CSS\", \"JS\"]},\n",
    "        {\"name\": \"Bob\", \"skills\": []},\n",
    "        {\"name\": \"Chao\", \"skills\": [\"Python\", \"Docker\"]},\n",
    "        {\"name\": \"Dee\", \"skills\": [\"Go\", \"Rust\"]},\n",
    "        {\"name\": \"Eli\", \"skills\": [\"SQL\"]},\n",
    "    ],\n",
    "    \"meta\": {\"founded\": 2012, \"active\": True, \"bar\": None, \"rating\": 4.8, \"ceo\": \"Quinn\"},\n",
    "    \"description\": (\n",
    "        \"Acme builds delightful widgets used worldwide. \"\n",
    "        \"Our teams collaborate around the clock to ship updates. \"\n",
    "        \"Customers appreciate the reliability and thoughtful design.\"\n",
    "    ),\n",
    "    \"offices\": [\"New York\", \"San Francisco\", \"Berlin\", \"Tokyo\"],\n",
    "}\n",
    "\n"
   ]
  },
  {
   "cell_type": "code",
   "execution_count": 3,
   "id": "92e4dde1",
   "metadata": {},
   "outputs": [
    {
     "data": {
      "text/html": [
       "\n",
       "<style>\n",
       "#jt-c6d485ba {\n",
       "  font-family: ui-monospace, SFMono-Regular, Menlo, Consolas, monospace;\n",
       "  font-size: 13px; line-height: 1.45;\n",
       "}\n",
       "#jt-c6d485ba summary {\n",
       "  cursor: pointer;\n",
       "  list-style: none;\n",
       "  display: inline-flex;\n",
       "  align-items: baseline;\n",
       "  gap: 0.25rem;\n",
       "}\n",
       "#jt-c6d485ba summary::-webkit-details-marker { display: none; }\n",
       "#jt-c6d485ba .jt-summary::before {\n",
       "  content: \"▸\";\n",
       "  display: inline-block;\n",
       "  width: 1em;\n",
       "  color: #94a3b8;\n",
       "}\n",
       "#jt-c6d485ba details[open] > .jt-summary::before { content: \"▾\"; }\n",
       "\n",
       "#jt-c6d485ba .jt-key   { color: #1f2937; }\n",
       "#jt-c6d485ba .jt-punct { color: #94a3b8; }\n",
       "#jt-c6d485ba .jt-str   { color: #059669; }\n",
       "#jt-c6d485ba .jt-str-trunc { color: #dc2626; }\n",
       "#jt-c6d485ba .jt-num   { color: #b45309; }\n",
       "#jt-c6d485ba .jt-bool  { color: #2563eb; }\n",
       "#jt-c6d485ba .jt-null  { color: #dc2626; }\n",
       "#jt-c6d485ba .jt-more  { color: #94a3b8; }\n",
       "@media (prefers-color-scheme: dark) {\n",
       "  #jt-c6d485ba .jt-key { color: #e5e7eb; }\n",
       "  #jt-c6d485ba .jt-str-trunc { color: #f87171; }\n",
       "  #jt-c6d485ba .jt-more { color: #64748b; }\n",
       "}\n",
       "</style>\n",
       "<div id=\"jt-c6d485ba\" class=\"jt\"><details class=\"jt-details\" open style=\"margin-left:0.0rem\"><summary class=\"jt-summary\">{} Object <span class=\"jt-punct\">(5)</span></summary><div class=\"jt-leaf\" style=\"margin-left:0.5rem\"><span class=\"jt-key\">\"name\"</span><span class=\"jt-punct\">: </span><span class=\"jt-str\">\"Acme Corp\"</span></div><details class=\"jt-details\" style=\"margin-left:0.5rem\"><summary class=\"jt-summary\"><span class=\"jt-key\">\"employees\"</span><span class=\"jt-punct\">: </span>[] Array <span class=\"jt-punct\">(5)</span></summary><details class=\"jt-details\" style=\"margin-left:1.0rem\"><summary class=\"jt-summary\"><span class=\"jt-key\">[0]</span><span class=\"jt-punct\">: </span>{} Object <span class=\"jt-punct\">(2)</span></summary><div class=\"jt-leaf\" style=\"margin-left:1.5rem\"><span class=\"jt-key\">\"name\"</span><span class=\"jt-punct\">: </span><span class=\"jt-str\">\"Ada\"</span></div><details class=\"jt-details\" style=\"margin-left:1.5rem\"><summary class=\"jt-summary\"><span class=\"jt-key\">\"skills\"</span><span class=\"jt-punct\">: </span>[] Array <span class=\"jt-punct\">(2)</span></summary><div class=\"jt-leaf\" style=\"margin-left:2.0rem\"><span class=\"jt-key\">[0]</span><span class=\"jt-punct\">: </span><span class=\"jt-str\">\"CSS\"</span></div><div class=\"jt-leaf\" style=\"margin-left:2.0rem\"><span class=\"jt-key\">[1]</span><span class=\"jt-punct\">: </span><span class=\"jt-str\">\"JS\"</span></div></details></details><details class=\"jt-details\" style=\"margin-left:1.0rem\"><summary class=\"jt-summary\"><span class=\"jt-key\">[1]</span><span class=\"jt-punct\">: </span>{} Object <span class=\"jt-punct\">(2)</span></summary><div class=\"jt-leaf\" style=\"margin-left:1.5rem\"><span class=\"jt-key\">\"name\"</span><span class=\"jt-punct\">: </span><span class=\"jt-str\">\"Bob\"</span></div><details class=\"jt-details\" style=\"margin-left:1.5rem\"><summary class=\"jt-summary\"><span class=\"jt-key\">\"skills\"</span><span class=\"jt-punct\">: </span>[] Array <span class=\"jt-punct\">(0)</span></summary></details></details><details class=\"jt-details\" style=\"margin-left:1.0rem\"><summary class=\"jt-summary\"><span class=\"jt-key\">[2]</span><span class=\"jt-punct\">: </span>{} Object <span class=\"jt-punct\">(2)</span></summary><div class=\"jt-leaf\" style=\"margin-left:1.5rem\"><span class=\"jt-key\">\"name\"</span><span class=\"jt-punct\">: </span><span class=\"jt-str\">\"Chao\"</span></div><details class=\"jt-details\" style=\"margin-left:1.5rem\"><summary class=\"jt-summary\"><span class=\"jt-key\">\"skills\"</span><span class=\"jt-punct\">: </span>[] Array <span class=\"jt-punct\">(2)</span></summary><div class=\"jt-leaf\" style=\"margin-left:2.0rem\"><span class=\"jt-key\">[0]</span><span class=\"jt-punct\">: </span><span class=\"jt-str\">\"Python\"</span></div><div class=\"jt-leaf\" style=\"margin-left:2.0rem\"><span class=\"jt-key\">[1]</span><span class=\"jt-punct\">: </span><span class=\"jt-str\">\"Docker\"</span></div></details></details><details class=\"jt-details\" style=\"margin-left:1.0rem\"><summary class=\"jt-summary\"><span class=\"jt-key\">[3]</span><span class=\"jt-punct\">: </span>{} Object <span class=\"jt-punct\">(2)</span></summary><div class=\"jt-leaf\" style=\"margin-left:1.5rem\"><span class=\"jt-key\">\"name\"</span><span class=\"jt-punct\">: </span><span class=\"jt-str\">\"Dee\"</span></div><details class=\"jt-details\" style=\"margin-left:1.5rem\"><summary class=\"jt-summary\"><span class=\"jt-key\">\"skills\"</span><span class=\"jt-punct\">: </span>[] Array <span class=\"jt-punct\">(2)</span></summary><div class=\"jt-leaf\" style=\"margin-left:2.0rem\"><span class=\"jt-key\">[0]</span><span class=\"jt-punct\">: </span><span class=\"jt-str\">\"Go\"</span></div><div class=\"jt-leaf\" style=\"margin-left:2.0rem\"><span class=\"jt-key\">[1]</span><span class=\"jt-punct\">: </span><span class=\"jt-str\">\"Rust\"</span></div></details></details><details class=\"jt-details\" style=\"margin-left:1.0rem\"><summary class=\"jt-summary\"><span class=\"jt-key\">[4]</span><span class=\"jt-punct\">: </span>{} Object <span class=\"jt-punct\">(2)</span></summary><div class=\"jt-leaf\" style=\"margin-left:1.5rem\"><span class=\"jt-key\">\"name\"</span><span class=\"jt-punct\">: </span><span class=\"jt-str\">\"Eli\"</span></div><details class=\"jt-details\" style=\"margin-left:1.5rem\"><summary class=\"jt-summary\"><span class=\"jt-key\">\"skills\"</span><span class=\"jt-punct\">: </span>[] Array <span class=\"jt-punct\">(1)</span></summary><div class=\"jt-leaf\" style=\"margin-left:2.0rem\"><span class=\"jt-key\">[0]</span><span class=\"jt-punct\">: </span><span class=\"jt-str\">\"SQL\"</span></div></details></details></details><details class=\"jt-details\" style=\"margin-left:0.5rem\"><summary class=\"jt-summary\"><span class=\"jt-key\">\"meta\"</span><span class=\"jt-punct\">: </span>{} Object <span class=\"jt-punct\">(5)</span></summary><div class=\"jt-leaf\" style=\"margin-left:1.0rem\"><span class=\"jt-key\">\"founded\"</span><span class=\"jt-punct\">: </span><span class=\"jt-num\">2012</span></div><div class=\"jt-leaf\" style=\"margin-left:1.0rem\"><span class=\"jt-key\">\"active\"</span><span class=\"jt-punct\">: </span><span class=\"jt-bool\">true</span></div><div class=\"jt-leaf\" style=\"margin-left:1.0rem\"><span class=\"jt-key\">\"bar\"</span><span class=\"jt-punct\">: </span><span class=\"jt-null\">null</span></div><div class=\"jt-leaf\" style=\"margin-left:1.0rem\"><span class=\"jt-key\">\"rating\"</span><span class=\"jt-punct\">: </span><span class=\"jt-num\">4.8</span></div><div class=\"jt-leaf\" style=\"margin-left:1.0rem\"><span class=\"jt-key\">\"ceo\"</span><span class=\"jt-punct\">: </span><span class=\"jt-str\">\"Quinn\"</span></div></details><div class=\"jt-leaf\" style=\"margin-left:0.5rem\"><span class=\"jt-key\">\"description\"</span><span class=\"jt-punct\">: </span><span class=\"jt-str\">\"Acme builds delightful widgets used worldwide. Our teams collaborate around the clock to ship updates. Customers appreciate the reliability and thoughtful design.\"</span></div><details class=\"jt-details\" style=\"margin-left:0.5rem\"><summary class=\"jt-summary\"><span class=\"jt-key\">\"offices\"</span><span class=\"jt-punct\">: </span>[] Array <span class=\"jt-punct\">(4)</span></summary><div class=\"jt-leaf\" style=\"margin-left:1.0rem\"><span class=\"jt-key\">[0]</span><span class=\"jt-punct\">: </span><span class=\"jt-str\">\"New York\"</span></div><div class=\"jt-leaf\" style=\"margin-left:1.0rem\"><span class=\"jt-key\">[1]</span><span class=\"jt-punct\">: </span><span class=\"jt-str\">\"San Francisco\"</span></div><div class=\"jt-leaf\" style=\"margin-left:1.0rem\"><span class=\"jt-key\">[2]</span><span class=\"jt-punct\">: </span><span class=\"jt-str\">\"Berlin\"</span></div><div class=\"jt-leaf\" style=\"margin-left:1.0rem\"><span class=\"jt-key\">[3]</span><span class=\"jt-punct\">: </span><span class=\"jt-str\">\"Tokyo\"</span></div></details></details></div>"
      ],
      "text/plain": [
       "<interactive_json_tree.JSON at 0x107a36c90>"
      ]
     },
     "execution_count": 3,
     "metadata": {},
     "output_type": "execute_result"
    }
   ],
   "source": [
    "JSON(example)\n"
   ]
  },
  {
   "cell_type": "code",
   "execution_count": 4,
   "id": "38693a3d",
   "metadata": {},
   "outputs": [
    {
     "data": {
      "text/html": [
       "\n",
       "<style>\n",
       "#jt-9fea6156 {\n",
       "  font-family: ui-monospace, SFMono-Regular, Menlo, Consolas, monospace;\n",
       "  font-size: 13px; line-height: 1.45;\n",
       "}\n",
       "#jt-9fea6156 summary {\n",
       "  cursor: pointer;\n",
       "  list-style: none;\n",
       "  display: inline-flex;\n",
       "  align-items: baseline;\n",
       "  gap: 0.25rem;\n",
       "}\n",
       "#jt-9fea6156 summary::-webkit-details-marker { display: none; }\n",
       "#jt-9fea6156 .jt-summary::before {\n",
       "  content: \"▸\";\n",
       "  display: inline-block;\n",
       "  width: 1em;\n",
       "  color: #94a3b8;\n",
       "}\n",
       "#jt-9fea6156 details[open] > .jt-summary::before { content: \"▾\"; }\n",
       "\n",
       "#jt-9fea6156 .jt-key   { color: #1f2937; }\n",
       "#jt-9fea6156 .jt-punct { color: #94a3b8; }\n",
       "#jt-9fea6156 .jt-str   { color: #059669; }\n",
       "#jt-9fea6156 .jt-str-trunc { color: #dc2626; }\n",
       "#jt-9fea6156 .jt-num   { color: #b45309; }\n",
       "#jt-9fea6156 .jt-bool  { color: #2563eb; }\n",
       "#jt-9fea6156 .jt-null  { color: #dc2626; }\n",
       "#jt-9fea6156 .jt-more  { color: #94a3b8; }\n",
       "@media (prefers-color-scheme: dark) {\n",
       "  #jt-9fea6156 .jt-key { color: #e5e7eb; }\n",
       "  #jt-9fea6156 .jt-str-trunc { color: #f87171; }\n",
       "  #jt-9fea6156 .jt-more { color: #64748b; }\n",
       "}\n",
       "</style>\n",
       "<div id=\"jt-9fea6156\" class=\"jt\"><details class=\"jt-details\" open style=\"margin-left:0.0rem\"><summary class=\"jt-summary\">{} Object <span class=\"jt-punct\">(3/5)</span></summary><div class=\"jt-leaf\" style=\"margin-left:0.5rem\"><span class=\"jt-key\">\"name\"</span><span class=\"jt-punct\">: </span><span class=\"jt-str\">\"Acme Corp\"</span></div><details class=\"jt-details\" open style=\"margin-left:0.5rem\"><summary class=\"jt-summary\"><span class=\"jt-key\">\"employees\"</span><span class=\"jt-punct\">: </span>[] Array <span class=\"jt-punct\">(3/5)</span></summary><details class=\"jt-details\" open style=\"margin-left:1.0rem\"><summary class=\"jt-summary\"><span class=\"jt-key\">[0]</span><span class=\"jt-punct\">: </span>{} Object <span class=\"jt-punct\">(2)</span></summary><div class=\"jt-leaf\" style=\"margin-left:1.5rem\"><span class=\"jt-key\">\"name\"</span><span class=\"jt-punct\">: </span><span class=\"jt-str\">\"Ada\"</span></div><details class=\"jt-details\" style=\"margin-left:1.5rem\"><summary class=\"jt-summary\"><span class=\"jt-key\">\"skills\"</span><span class=\"jt-punct\">: </span>[] Array <span class=\"jt-punct\">(2)</span></summary><div class=\"jt-leaf\" style=\"margin-left:2.0rem\"><span class=\"jt-key\">[0]</span><span class=\"jt-punct\">: </span><span class=\"jt-str\">\"CSS\"</span></div><div class=\"jt-leaf\" style=\"margin-left:2.0rem\"><span class=\"jt-key\">[1]</span><span class=\"jt-punct\">: </span><span class=\"jt-str\">\"JS\"</span></div></details></details><details class=\"jt-details\" open style=\"margin-left:1.0rem\"><summary class=\"jt-summary\"><span class=\"jt-key\">[1]</span><span class=\"jt-punct\">: </span>{} Object <span class=\"jt-punct\">(2)</span></summary><div class=\"jt-leaf\" style=\"margin-left:1.5rem\"><span class=\"jt-key\">\"name\"</span><span class=\"jt-punct\">: </span><span class=\"jt-str\">\"Bob\"</span></div><details class=\"jt-details\" style=\"margin-left:1.5rem\"><summary class=\"jt-summary\"><span class=\"jt-key\">\"skills\"</span><span class=\"jt-punct\">: </span>[] Array <span class=\"jt-punct\">(0)</span></summary></details></details><details class=\"jt-details\" open style=\"margin-left:1.0rem\"><summary class=\"jt-summary\"><span class=\"jt-key\">[2]</span><span class=\"jt-punct\">: </span>{} Object <span class=\"jt-punct\">(2)</span></summary><div class=\"jt-leaf\" style=\"margin-left:1.5rem\"><span class=\"jt-key\">\"name\"</span><span class=\"jt-punct\">: </span><span class=\"jt-str\">\"Chao\"</span></div><details class=\"jt-details\" style=\"margin-left:1.5rem\"><summary class=\"jt-summary\"><span class=\"jt-key\">\"skills\"</span><span class=\"jt-punct\">: </span>[] Array <span class=\"jt-punct\">(2)</span></summary><div class=\"jt-leaf\" style=\"margin-left:2.0rem\"><span class=\"jt-key\">[0]</span><span class=\"jt-punct\">: </span><span class=\"jt-str\">\"Python\"</span></div><div class=\"jt-leaf\" style=\"margin-left:2.0rem\"><span class=\"jt-key\">[1]</span><span class=\"jt-punct\">: </span><span class=\"jt-str\">\"Docker\"</span></div></details></details><div class=\"jt-more\" style=\"margin-left:1.0rem\"><em>... 2 more items</em></div></details><details class=\"jt-details\" open style=\"margin-left:0.5rem\"><summary class=\"jt-summary\"><span class=\"jt-key\">\"meta\"</span><span class=\"jt-punct\">: </span>{} Object <span class=\"jt-punct\">(3/5)</span></summary><div class=\"jt-leaf\" style=\"margin-left:1.0rem\"><span class=\"jt-key\">\"founded\"</span><span class=\"jt-punct\">: </span><span class=\"jt-num\">2012</span></div><div class=\"jt-leaf\" style=\"margin-left:1.0rem\"><span class=\"jt-key\">\"active\"</span><span class=\"jt-punct\">: </span><span class=\"jt-bool\">true</span></div><div class=\"jt-leaf\" style=\"margin-left:1.0rem\"><span class=\"jt-key\">\"bar\"</span><span class=\"jt-punct\">: </span><span class=\"jt-null\">null</span></div><div class=\"jt-more\" style=\"margin-left:1.0rem\"><em>... 2 more items</em></div></details><div class=\"jt-more\" style=\"margin-left:0.5rem\"><em>... 2 more items</em></div></details></div>"
      ],
      "text/plain": [
       "<interactive_json_tree.JSON at 0x107a36450>"
      ]
     },
     "execution_count": 4,
     "metadata": {},
     "output_type": "execute_result"
    }
   ],
   "source": [
    "JSON(example, expand_depth=3, max_children=3)\n"
   ]
  },
  {
   "cell_type": "code",
   "execution_count": 5,
   "id": "f2b66971",
   "metadata": {},
   "outputs": [
    {
     "data": {
      "text/html": [
       "\n",
       "<style>\n",
       "#jt-cf1a0c3b {\n",
       "  font-family: ui-monospace, SFMono-Regular, Menlo, Consolas, monospace;\n",
       "  font-size: 13px; line-height: 1.45;\n",
       "}\n",
       "#jt-cf1a0c3b summary {\n",
       "  cursor: pointer;\n",
       "  list-style: none;\n",
       "  display: inline-flex;\n",
       "  align-items: baseline;\n",
       "  gap: 0.25rem;\n",
       "}\n",
       "#jt-cf1a0c3b summary::-webkit-details-marker { display: none; }\n",
       "#jt-cf1a0c3b .jt-summary::before {\n",
       "  content: \"▸\";\n",
       "  display: inline-block;\n",
       "  width: 1em;\n",
       "  color: #94a3b8;\n",
       "}\n",
       "#jt-cf1a0c3b details[open] > .jt-summary::before { content: \"▾\"; }\n",
       "\n",
       "#jt-cf1a0c3b .jt-key   { color: #1f2937; }\n",
       "#jt-cf1a0c3b .jt-punct { color: #94a3b8; }\n",
       "#jt-cf1a0c3b .jt-str   { color: #059669; }\n",
       "#jt-cf1a0c3b .jt-str-trunc { color: #dc2626; }\n",
       "#jt-cf1a0c3b .jt-num   { color: #b45309; }\n",
       "#jt-cf1a0c3b .jt-bool  { color: #2563eb; }\n",
       "#jt-cf1a0c3b .jt-null  { color: #dc2626; }\n",
       "#jt-cf1a0c3b .jt-more  { color: #94a3b8; }\n",
       "@media (prefers-color-scheme: dark) {\n",
       "  #jt-cf1a0c3b .jt-key { color: #e5e7eb; }\n",
       "  #jt-cf1a0c3b .jt-str-trunc { color: #f87171; }\n",
       "  #jt-cf1a0c3b .jt-more { color: #64748b; }\n",
       "}\n",
       "</style>\n",
       "<div id=\"jt-cf1a0c3b\" class=\"jt\"><details class=\"jt-details\" open style=\"margin-left:0.0rem\"><summary class=\"jt-summary\">{} Object <span class=\"jt-punct\">(5)</span></summary><div class=\"jt-leaf\" style=\"margin-left:0.5rem\"><span class=\"jt-key\">\"name\"</span><span class=\"jt-punct\">: </span><span class=\"jt-str\">\"Acme Corp\"</span></div><details class=\"jt-details\" style=\"margin-left:0.5rem\"><summary class=\"jt-summary\"><span class=\"jt-key\">\"employees\"</span><span class=\"jt-punct\">: </span>[] Array <span class=\"jt-punct\">(5)</span></summary><details class=\"jt-details\" style=\"margin-left:1.0rem\"><summary class=\"jt-summary\"><span class=\"jt-key\">[0]</span><span class=\"jt-punct\">: </span>{} Object <span class=\"jt-punct\">(2)</span></summary><div class=\"jt-leaf\" style=\"margin-left:1.5rem\"><span class=\"jt-key\">\"name\"</span><span class=\"jt-punct\">: </span><span class=\"jt-str\">\"Ada\"</span></div><details class=\"jt-details\" style=\"margin-left:1.5rem\"><summary class=\"jt-summary\"><span class=\"jt-key\">\"skills\"</span><span class=\"jt-punct\">: </span>[] Array <span class=\"jt-punct\">(2)</span></summary><div class=\"jt-leaf\" style=\"margin-left:2.0rem\"><span class=\"jt-key\">[0]</span><span class=\"jt-punct\">: </span><span class=\"jt-str\">\"CSS\"</span></div><div class=\"jt-leaf\" style=\"margin-left:2.0rem\"><span class=\"jt-key\">[1]</span><span class=\"jt-punct\">: </span><span class=\"jt-str\">\"JS\"</span></div></details></details><details class=\"jt-details\" style=\"margin-left:1.0rem\"><summary class=\"jt-summary\"><span class=\"jt-key\">[1]</span><span class=\"jt-punct\">: </span>{} Object <span class=\"jt-punct\">(2)</span></summary><div class=\"jt-leaf\" style=\"margin-left:1.5rem\"><span class=\"jt-key\">\"name\"</span><span class=\"jt-punct\">: </span><span class=\"jt-str\">\"Bob\"</span></div><details class=\"jt-details\" style=\"margin-left:1.5rem\"><summary class=\"jt-summary\"><span class=\"jt-key\">\"skills\"</span><span class=\"jt-punct\">: </span>[] Array <span class=\"jt-punct\">(0)</span></summary></details></details><details class=\"jt-details\" style=\"margin-left:1.0rem\"><summary class=\"jt-summary\"><span class=\"jt-key\">[2]</span><span class=\"jt-punct\">: </span>{} Object <span class=\"jt-punct\">(2)</span></summary><div class=\"jt-leaf\" style=\"margin-left:1.5rem\"><span class=\"jt-key\">\"name\"</span><span class=\"jt-punct\">: </span><span class=\"jt-str\">\"Chao\"</span></div><details class=\"jt-details\" style=\"margin-left:1.5rem\"><summary class=\"jt-summary\"><span class=\"jt-key\">\"skills\"</span><span class=\"jt-punct\">: </span>[] Array <span class=\"jt-punct\">(2)</span></summary><div class=\"jt-leaf\" style=\"margin-left:2.0rem\"><span class=\"jt-key\">[0]</span><span class=\"jt-punct\">: </span><span class=\"jt-str\">\"Python\"</span></div><div class=\"jt-leaf\" style=\"margin-left:2.0rem\"><span class=\"jt-key\">[1]</span><span class=\"jt-punct\">: </span><span class=\"jt-str\">\"Docker\"</span></div></details></details><details class=\"jt-details\" style=\"margin-left:1.0rem\"><summary class=\"jt-summary\"><span class=\"jt-key\">[3]</span><span class=\"jt-punct\">: </span>{} Object <span class=\"jt-punct\">(2)</span></summary><div class=\"jt-leaf\" style=\"margin-left:1.5rem\"><span class=\"jt-key\">\"name\"</span><span class=\"jt-punct\">: </span><span class=\"jt-str\">\"Dee\"</span></div><details class=\"jt-details\" style=\"margin-left:1.5rem\"><summary class=\"jt-summary\"><span class=\"jt-key\">\"skills\"</span><span class=\"jt-punct\">: </span>[] Array <span class=\"jt-punct\">(2)</span></summary><div class=\"jt-leaf\" style=\"margin-left:2.0rem\"><span class=\"jt-key\">[0]</span><span class=\"jt-punct\">: </span><span class=\"jt-str\">\"Go\"</span></div><div class=\"jt-leaf\" style=\"margin-left:2.0rem\"><span class=\"jt-key\">[1]</span><span class=\"jt-punct\">: </span><span class=\"jt-str\">\"Rust\"</span></div></details></details><details class=\"jt-details\" style=\"margin-left:1.0rem\"><summary class=\"jt-summary\"><span class=\"jt-key\">[4]</span><span class=\"jt-punct\">: </span>{} Object <span class=\"jt-punct\">(2)</span></summary><div class=\"jt-leaf\" style=\"margin-left:1.5rem\"><span class=\"jt-key\">\"name\"</span><span class=\"jt-punct\">: </span><span class=\"jt-str\">\"Eli\"</span></div><details class=\"jt-details\" style=\"margin-left:1.5rem\"><summary class=\"jt-summary\"><span class=\"jt-key\">\"skills\"</span><span class=\"jt-punct\">: </span>[] Array <span class=\"jt-punct\">(1)</span></summary><div class=\"jt-leaf\" style=\"margin-left:2.0rem\"><span class=\"jt-key\">[0]</span><span class=\"jt-punct\">: </span><span class=\"jt-str\">\"SQL\"</span></div></details></details></details><details class=\"jt-details\" style=\"margin-left:0.5rem\"><summary class=\"jt-summary\"><span class=\"jt-key\">\"meta\"</span><span class=\"jt-punct\">: </span>{} Object <span class=\"jt-punct\">(5)</span></summary><div class=\"jt-leaf\" style=\"margin-left:1.0rem\"><span class=\"jt-key\">\"founded\"</span><span class=\"jt-punct\">: </span><span class=\"jt-num\">2012</span></div><div class=\"jt-leaf\" style=\"margin-left:1.0rem\"><span class=\"jt-key\">\"active\"</span><span class=\"jt-punct\">: </span><span class=\"jt-bool\">true</span></div><div class=\"jt-leaf\" style=\"margin-left:1.0rem\"><span class=\"jt-key\">\"bar\"</span><span class=\"jt-punct\">: </span><span class=\"jt-null\">null</span></div><div class=\"jt-leaf\" style=\"margin-left:1.0rem\"><span class=\"jt-key\">\"rating\"</span><span class=\"jt-punct\">: </span><span class=\"jt-num\">4.8</span></div><div class=\"jt-leaf\" style=\"margin-left:1.0rem\"><span class=\"jt-key\">\"ceo\"</span><span class=\"jt-punct\">: </span><span class=\"jt-str\">\"Quinn\"</span></div></details><div class=\"jt-leaf\" style=\"margin-left:0.5rem\"><span class=\"jt-key\">\"description\"</span><span class=\"jt-punct\">: </span><span class=\"jt-str jt-str-trunc\">\"Acme builds delightful widgets used worl...\"</span></div><details class=\"jt-details\" style=\"margin-left:0.5rem\"><summary class=\"jt-summary\"><span class=\"jt-key\">\"offices\"</span><span class=\"jt-punct\">: </span>[] Array <span class=\"jt-punct\">(4)</span></summary><div class=\"jt-leaf\" style=\"margin-left:1.0rem\"><span class=\"jt-key\">[0]</span><span class=\"jt-punct\">: </span><span class=\"jt-str\">\"New York\"</span></div><div class=\"jt-leaf\" style=\"margin-left:1.0rem\"><span class=\"jt-key\">[1]</span><span class=\"jt-punct\">: </span><span class=\"jt-str\">\"San Francisco\"</span></div><div class=\"jt-leaf\" style=\"margin-left:1.0rem\"><span class=\"jt-key\">[2]</span><span class=\"jt-punct\">: </span><span class=\"jt-str\">\"Berlin\"</span></div><div class=\"jt-leaf\" style=\"margin-left:1.0rem\"><span class=\"jt-key\">[3]</span><span class=\"jt-punct\">: </span><span class=\"jt-str\">\"Tokyo\"</span></div></details></details></div>"
      ],
      "text/plain": [
       "<interactive_json_tree.JSON at 0x107a35ca0>"
      ]
     },
     "execution_count": 5,
     "metadata": {},
     "output_type": "execute_result"
    }
   ],
   "source": [
    "JSON(example, max_string_length=40)\n"
   ]
  },
  {
   "cell_type": "markdown",
   "id": "851a801d",
   "metadata": {},
   "source": [
    "## Internals"
   ]
  },
  {
   "cell_type": "code",
   "execution_count": 6,
   "id": "91dd7296",
   "metadata": {},
   "outputs": [],
   "source": [
    "from interactive_json_tree import json_to_html_tree"
   ]
  },
  {
   "cell_type": "code",
   "execution_count": 7,
   "id": "57f9ab6b",
   "metadata": {},
   "outputs": [
    {
     "name": "stdout",
     "output_type": "stream",
     "text": [
      "\n",
      "<style>\n",
      "#jt-c967b50f {\n",
      "  font-family: ui-monospace, SFMono-Regular, Menlo, Consolas, monospace;\n",
      "  font-size: 13px; line-height: 1.45;\n",
      "}\n",
      "#jt-c967b50f summary {\n",
      "  cursor: pointer;\n",
      "  list-style: none;\n",
      "  display: inline-flex;\n",
      "  align-items: baseline;\n",
      "  gap: 0.25rem;\n",
      "}\n",
      "#jt-c967b50f summary::-webkit-details-marker { display: none; }\n",
      "#jt-c967b50f .jt-summary::before {\n",
      "  content: \"▸\";\n",
      "  display: inline-block;\n",
      "  width: 1em;\n",
      "  color: #94a3b8;\n",
      "}\n",
      "#jt-c967b50f details[open] > .jt-summary::before { content: \"▾\"; }\n",
      "\n",
      "#jt-c967b50f .jt-key   { color: #1f2937; }\n",
      "#jt-c967b50f .jt-punct { color: #94a3b8; }\n",
      "#jt-c967b50f .jt-str   { color: #059669; }\n",
      "#jt-c967b50f .jt-str-trunc { color: #dc2626; }\n",
      "#jt-c967b50f .jt-num   { color: #b45309; }\n",
      "#jt-c967b50f .jt-bool  { color: #2563eb; }\n",
      "#jt-c967b50f .jt-null  { color: #dc2626; }\n",
      "#jt-c967b50f .jt-more  { color: #94a3b8; }\n",
      "@media (prefers-color-scheme: dark) {\n",
      "  #jt-c967b50f .jt-key { color: #e5e7eb; }\n",
      "  #jt-c967b50f .jt-str-trunc { color: #f87171; }\n",
      "  #jt-c967b50f .jt-more { color: #64748b; }\n",
      "}\n",
      "</style>\n",
      "<div id=\"jt-c967b50f\" class=\"jt\"><details class=\"jt-details\" open style=\"margin-left:0.0rem\"><summary class=\"jt-summary\">{} Object <span class=\"jt-punct\">(3/5)</span></summary><div class=\"jt-leaf\" style=\"margin-left:0.5rem\"><span class=\"jt-key\">\"name\"</span><span class=\"jt-punct\">: </span><span class=\"jt-str\">\"Acme Corp\"</span></div><details class=\"jt-details\" open style=\"margin-left:0.5rem\"><summary class=\"jt-summary\"><span class=\"jt-key\">\"employees\"</span><span class=\"jt-punct\">: </span>[] Array <span class=\"jt-punct\">(3/5)</span></summary><details class=\"jt-details\" style=\"margin-left:1.0rem\"><summary class=\"jt-summary\"><span class=\"jt-key\">[0]</span><span class=\"jt-punct\">: </span>{} Object <span class=\"jt-punct\">(2)</span></summary><div class=\"jt-leaf\" style=\"margin-left:1.5rem\"><span class=\"jt-key\">\"name\"</span><span class=\"jt-punct\">: </span><span class=\"jt-str\">\"Ada\"</span></div><details class=\"jt-details\" style=\"margin-left:1.5rem\"><summary class=\"jt-summary\"><span class=\"jt-key\">\"skills\"</span><span class=\"jt-punct\">: </span>[] Array <span class=\"jt-punct\">(2)</span></summary><div class=\"jt-leaf\" style=\"margin-left:2.0rem\"><span class=\"jt-key\">[0]</span><span class=\"jt-punct\">: </span><span class=\"jt-str\">\"CSS\"</span></div><div class=\"jt-leaf\" style=\"margin-left:2.0rem\"><span class=\"jt-key\">[1]</span><span class=\"jt-punct\">: </span><span class=\"jt-str\">\"JS\"</span></div></details></details><details class=\"jt-details\" style=\"margin-left:1.0rem\"><summary class=\"jt-summary\"><span class=\"jt-key\">[1]</span><span class=\"jt-punct\">: </span>{} Object <span class=\"jt-punct\">(2)</span></summary><div class=\"jt-leaf\" style=\"margin-left:1.5rem\"><span class=\"jt-key\">\"name\"</span><span class=\"jt-punct\">: </span><span class=\"jt-str\">\"Bob\"</span></div><details class=\"jt-details\" style=\"margin-left:1.5rem\"><summary class=\"jt-summary\"><span class=\"jt-key\">\"skills\"</span><span class=\"jt-punct\">: </span>[] Array <span class=\"jt-punct\">(0)</span></summary></details></details><details class=\"jt-details\" style=\"margin-left:1.0rem\"><summary class=\"jt-summary\"><span class=\"jt-key\">[2]</span><span class=\"jt-punct\">: </span>{} Object <span class=\"jt-punct\">(2)</span></summary><div class=\"jt-leaf\" style=\"margin-left:1.5rem\"><span class=\"jt-key\">\"name\"</span><span class=\"jt-punct\">: </span><span class=\"jt-str\">\"Chao\"</span></div><details class=\"jt-details\" style=\"margin-left:1.5rem\"><summary class=\"jt-summary\"><span class=\"jt-key\">\"skills\"</span><span class=\"jt-punct\">: </span>[] Array <span class=\"jt-punct\">(2)</span></summary><div class=\"jt-leaf\" style=\"margin-left:2.0rem\"><span class=\"jt-key\">[0]</span><span class=\"jt-punct\">: </span><span class=\"jt-str\">\"Python\"</span></div><div class=\"jt-leaf\" style=\"margin-left:2.0rem\"><span class=\"jt-key\">[1]</span><span class=\"jt-punct\">: </span><span class=\"jt-str\">\"Docker\"</span></div></details></details><div class=\"jt-more\" style=\"margin-left:1.0rem\"><em>... 2 more items</em></div></details><details class=\"jt-details\" open style=\"margin-left:0.5rem\"><summary class=\"jt-summary\"><span class=\"jt-key\">\"meta\"</span><span class=\"jt-punct\">: </span>{} Object <span class=\"jt-punct\">(3/5)</span></summary><div class=\"jt-leaf\" style=\"margin-left:1.0rem\"><span class=\"jt-key\">\"founded\"</span><span class=\"jt-punct\">: </span><span class=\"jt-num\">2012</span></div><div class=\"jt-leaf\" style=\"margin-left:1.0rem\"><span class=\"jt-key\">\"active\"</span><span class=\"jt-punct\">: </span><span class=\"jt-bool\">true</span></div><div class=\"jt-leaf\" style=\"margin-left:1.0rem\"><span class=\"jt-key\">\"bar\"</span><span class=\"jt-punct\">: </span><span class=\"jt-null\">null</span></div><div class=\"jt-more\" style=\"margin-left:1.0rem\"><em>... 2 more items</em></div></details><div class=\"jt-more\" style=\"margin-left:0.5rem\"><em>... 2 more items</em></div></details></div>\n"
     ]
    }
   ],
   "source": [
    "print(\n",
    "    json_to_html_tree(\n",
    "        example, expand_depth=2, max_children=3, max_string_length=40\n",
    "    )\n",
    ")\n"
   ]
  }
 ],
 "metadata": {
  "kernelspec": {
   "display_name": "interactive-json-tree",
   "language": "python",
   "name": "python3"
  },
  "language_info": {
   "codemirror_mode": {
    "name": "ipython",
    "version": 3
   },
   "file_extension": ".py",
   "mimetype": "text/x-python",
   "name": "python",
   "nbconvert_exporter": "python",
   "pygments_lexer": "ipython3",
   "version": "3.12.7"
  }
 },
 "nbformat": 4,
 "nbformat_minor": 5
}
