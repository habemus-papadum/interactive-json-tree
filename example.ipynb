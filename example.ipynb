{
 "cells": [
  {
   "cell_type": "code",
   "execution_count": 1,
   "id": "68e3a008",
   "metadata": {},
   "outputs": [],
   "source": [
    "from json_tree import JSON"
   ]
  },
  {
   "cell_type": "code",
   "execution_count": 2,
   "id": "f8b16406",
   "metadata": {},
   "outputs": [],
   "source": [
    "example = {\n",
    "    \"name\": \"Acme Corp\",\n",
    "    \"employees\": [\n",
    "        {\"name\": \"Ada\", \"skills\": [\"CSS\", \"JS\"]},\n",
    "        {\"name\": \"Bob\", \"skills\": []},\n",
    "    ],\n",
    "    \"meta\": {\"founded\": 2012, \"active\": True, \"bar\": None},\n",
    "}"
   ]
  },
  {
   "cell_type": "code",
   "execution_count": 3,
   "id": "92e4dde1",
   "metadata": {},
   "outputs": [
    {
     "data": {
      "text/html": [
       "\n",
       "<style>\n",
       "#jt-bf06da9a {\n",
       "  font-family: ui-monospace, SFMono-Regular, Menlo, Consolas, monospace;\n",
       "  font-size: 13px; line-height: 1.45;\n",
       "}\n",
       "#jt-bf06da9a summary {\n",
       "  cursor: pointer;\n",
       "  list-style: none;\n",
       "  display: inline-flex;\n",
       "  align-items: baseline;\n",
       "  gap: 0.25rem;\n",
       "}\n",
       "#jt-bf06da9a summary::-webkit-details-marker { display: none; }\n",
       "#jt-bf06da9a .jt-summary::before {\n",
       "  content: \"▸\";\n",
       "  display: inline-block;\n",
       "  width: 1em;\n",
       "  color: #94a3b8;\n",
       "}\n",
       "#jt-bf06da9a details[open] > .jt-summary::before { content: \"▾\"; }\n",
       "\n",
       "#jt-bf06da9a .jt-key   { color: #1f2937; }\n",
       "#jt-bf06da9a .jt-punct { color: #94a3b8; }\n",
       "#jt-bf06da9a .jt-str   { color: #059669; }\n",
       "#jt-bf06da9a .jt-num   { color: #b45309; }\n",
       "#jt-bf06da9a .jt-bool  { color: #2563eb; }\n",
       "#jt-bf06da9a .jt-null  { color: #dc2626; }\n",
       "@media (prefers-color-scheme: dark) {\n",
       "  #jt-bf06da9a .jt-key { color: #e5e7eb; }\n",
       "}\n",
       "</style>\n",
       "<div id=\"jt-bf06da9a\" class=\"jt\"><details class=\"jt-details\" open style=\"margin-left:0.0rem\"><summary class=\"jt-summary\">{} Object <span class=\"jt-punct\">(3)</span></summary><div class=\"jt-leaf\" style=\"margin-left:0.5rem\"><span class=\"jt-key\">\"name\"</span><span class=\"jt-punct\">: </span><span class=\"jt-str\">\"Acme Corp\"</span></div><details class=\"jt-details\" style=\"margin-left:0.5rem\"><summary class=\"jt-summary\"><span class=\"jt-key\">\"employees\"</span><span class=\"jt-punct\">: </span>[] Array <span class=\"jt-punct\">(2)</span></summary><details class=\"jt-details\" style=\"margin-left:1.0rem\"><summary class=\"jt-summary\"><span class=\"jt-key\">[0]</span><span class=\"jt-punct\">: </span>{} Object <span class=\"jt-punct\">(2)</span></summary><div class=\"jt-leaf\" style=\"margin-left:1.5rem\"><span class=\"jt-key\">\"name\"</span><span class=\"jt-punct\">: </span><span class=\"jt-str\">\"Ada\"</span></div><details class=\"jt-details\" style=\"margin-left:1.5rem\"><summary class=\"jt-summary\"><span class=\"jt-key\">\"skills\"</span><span class=\"jt-punct\">: </span>[] Array <span class=\"jt-punct\">(2)</span></summary><div class=\"jt-leaf\" style=\"margin-left:2.0rem\"><span class=\"jt-key\">[0]</span><span class=\"jt-punct\">: </span><span class=\"jt-str\">\"CSS\"</span></div><div class=\"jt-leaf\" style=\"margin-left:2.0rem\"><span class=\"jt-key\">[1]</span><span class=\"jt-punct\">: </span><span class=\"jt-str\">\"JS\"</span></div></details></details><details class=\"jt-details\" style=\"margin-left:1.0rem\"><summary class=\"jt-summary\"><span class=\"jt-key\">[1]</span><span class=\"jt-punct\">: </span>{} Object <span class=\"jt-punct\">(2)</span></summary><div class=\"jt-leaf\" style=\"margin-left:1.5rem\"><span class=\"jt-key\">\"name\"</span><span class=\"jt-punct\">: </span><span class=\"jt-str\">\"Bob\"</span></div><details class=\"jt-details\" style=\"margin-left:1.5rem\"><summary class=\"jt-summary\"><span class=\"jt-key\">\"skills\"</span><span class=\"jt-punct\">: </span>[] Array <span class=\"jt-punct\">(0)</span></summary></details></details></details><details class=\"jt-details\" style=\"margin-left:0.5rem\"><summary class=\"jt-summary\"><span class=\"jt-key\">\"meta\"</span><span class=\"jt-punct\">: </span>{} Object <span class=\"jt-punct\">(3)</span></summary><div class=\"jt-leaf\" style=\"margin-left:1.0rem\"><span class=\"jt-key\">\"founded\"</span><span class=\"jt-punct\">: </span><span class=\"jt-num\">2012</span></div><div class=\"jt-leaf\" style=\"margin-left:1.0rem\"><span class=\"jt-key\">\"active\"</span><span class=\"jt-punct\">: </span><span class=\"jt-bool\">true</span></div><div class=\"jt-leaf\" style=\"margin-left:1.0rem\"><span class=\"jt-key\">\"bar\"</span><span class=\"jt-punct\">: </span><span class=\"jt-null\">null</span></div></details></details></div>"
      ],
      "text/plain": [
       "<json_tree.JSON at 0x110525f40>"
      ]
     },
     "execution_count": 3,
     "metadata": {},
     "output_type": "execute_result"
    }
   ],
   "source": [
    "JSON(example)"
   ]
  },
  {
   "cell_type": "code",
   "execution_count": 4,
   "id": "38693a3d",
   "metadata": {},
   "outputs": [
    {
     "data": {
      "text/html": [
       "\n",
       "<style>\n",
       "#jt-f33c3982 {\n",
       "  font-family: ui-monospace, SFMono-Regular, Menlo, Consolas, monospace;\n",
       "  font-size: 13px; line-height: 1.45;\n",
       "}\n",
       "#jt-f33c3982 summary {\n",
       "  cursor: pointer;\n",
       "  list-style: none;\n",
       "  display: inline-flex;\n",
       "  align-items: baseline;\n",
       "  gap: 0.25rem;\n",
       "}\n",
       "#jt-f33c3982 summary::-webkit-details-marker { display: none; }\n",
       "#jt-f33c3982 .jt-summary::before {\n",
       "  content: \"▸\";\n",
       "  display: inline-block;\n",
       "  width: 1em;\n",
       "  color: #94a3b8;\n",
       "}\n",
       "#jt-f33c3982 details[open] > .jt-summary::before { content: \"▾\"; }\n",
       "\n",
       "#jt-f33c3982 .jt-key   { color: #1f2937; }\n",
       "#jt-f33c3982 .jt-punct { color: #94a3b8; }\n",
       "#jt-f33c3982 .jt-str   { color: #059669; }\n",
       "#jt-f33c3982 .jt-num   { color: #b45309; }\n",
       "#jt-f33c3982 .jt-bool  { color: #2563eb; }\n",
       "#jt-f33c3982 .jt-null  { color: #dc2626; }\n",
       "@media (prefers-color-scheme: dark) {\n",
       "  #jt-f33c3982 .jt-key { color: #e5e7eb; }\n",
       "}\n",
       "</style>\n",
       "<div id=\"jt-f33c3982\" class=\"jt\"><details class=\"jt-details\" open style=\"margin-left:0.0rem\"><summary class=\"jt-summary\">{} Object <span class=\"jt-punct\">(3)</span></summary><div class=\"jt-leaf\" style=\"margin-left:0.5rem\"><span class=\"jt-key\">\"name\"</span><span class=\"jt-punct\">: </span><span class=\"jt-str\">\"Acme Corp\"</span></div><details class=\"jt-details\" open style=\"margin-left:0.5rem\"><summary class=\"jt-summary\"><span class=\"jt-key\">\"employees\"</span><span class=\"jt-punct\">: </span>[] Array <span class=\"jt-punct\">(2)</span></summary><details class=\"jt-details\" open style=\"margin-left:1.0rem\"><summary class=\"jt-summary\"><span class=\"jt-key\">[0]</span><span class=\"jt-punct\">: </span>{} Object <span class=\"jt-punct\">(2)</span></summary><div class=\"jt-leaf\" style=\"margin-left:1.5rem\"><span class=\"jt-key\">\"name\"</span><span class=\"jt-punct\">: </span><span class=\"jt-str\">\"Ada\"</span></div><details class=\"jt-details\" style=\"margin-left:1.5rem\"><summary class=\"jt-summary\"><span class=\"jt-key\">\"skills\"</span><span class=\"jt-punct\">: </span>[] Array <span class=\"jt-punct\">(2)</span></summary><div class=\"jt-leaf\" style=\"margin-left:2.0rem\"><span class=\"jt-key\">[0]</span><span class=\"jt-punct\">: </span><span class=\"jt-str\">\"CSS\"</span></div><div class=\"jt-leaf\" style=\"margin-left:2.0rem\"><span class=\"jt-key\">[1]</span><span class=\"jt-punct\">: </span><span class=\"jt-str\">\"JS\"</span></div></details></details><details class=\"jt-details\" open style=\"margin-left:1.0rem\"><summary class=\"jt-summary\"><span class=\"jt-key\">[1]</span><span class=\"jt-punct\">: </span>{} Object <span class=\"jt-punct\">(2)</span></summary><div class=\"jt-leaf\" style=\"margin-left:1.5rem\"><span class=\"jt-key\">\"name\"</span><span class=\"jt-punct\">: </span><span class=\"jt-str\">\"Bob\"</span></div><details class=\"jt-details\" style=\"margin-left:1.5rem\"><summary class=\"jt-summary\"><span class=\"jt-key\">\"skills\"</span><span class=\"jt-punct\">: </span>[] Array <span class=\"jt-punct\">(0)</span></summary></details></details></details><details class=\"jt-details\" open style=\"margin-left:0.5rem\"><summary class=\"jt-summary\"><span class=\"jt-key\">\"meta\"</span><span class=\"jt-punct\">: </span>{} Object <span class=\"jt-punct\">(3)</span></summary><div class=\"jt-leaf\" style=\"margin-left:1.0rem\"><span class=\"jt-key\">\"founded\"</span><span class=\"jt-punct\">: </span><span class=\"jt-num\">2012</span></div><div class=\"jt-leaf\" style=\"margin-left:1.0rem\"><span class=\"jt-key\">\"active\"</span><span class=\"jt-punct\">: </span><span class=\"jt-bool\">true</span></div><div class=\"jt-leaf\" style=\"margin-left:1.0rem\"><span class=\"jt-key\">\"bar\"</span><span class=\"jt-punct\">: </span><span class=\"jt-null\">null</span></div></details></details></div>"
      ],
      "text/plain": [
       "<json_tree.JSON at 0x11055a4b0>"
      ]
     },
     "execution_count": 4,
     "metadata": {},
     "output_type": "execute_result"
    }
   ],
   "source": [
    "JSON(example, expand_depth=3)\n"
   ]
  },
  {
   "cell_type": "markdown",
   "id": "851a801d",
   "metadata": {},
   "source": [
    "## Internals"
   ]
  },
  {
   "cell_type": "code",
   "execution_count": 6,
   "id": "91dd7296",
   "metadata": {},
   "outputs": [],
   "source": [
    "from json_tree import json_to_html_tree"
   ]
  },
  {
   "cell_type": "code",
   "execution_count": 7,
   "id": "57f9ab6b",
   "metadata": {},
   "outputs": [
    {
     "name": "stdout",
     "output_type": "stream",
     "text": [
      "\n",
      "<style>\n",
      "#jt-4e44da67 {\n",
      "  font-family: ui-monospace, SFMono-Regular, Menlo, Consolas, monospace;\n",
      "  font-size: 13px; line-height: 1.45;\n",
      "}\n",
      "#jt-4e44da67 summary {\n",
      "  cursor: pointer;\n",
      "  list-style: none;\n",
      "  display: inline-flex;\n",
      "  align-items: baseline;\n",
      "  gap: 0.25rem;\n",
      "}\n",
      "#jt-4e44da67 summary::-webkit-details-marker { display: none; }\n",
      "#jt-4e44da67 .jt-summary::before {\n",
      "  content: \"▸\";\n",
      "  display: inline-block;\n",
      "  width: 1em;\n",
      "  color: #94a3b8;\n",
      "}\n",
      "#jt-4e44da67 details[open] > .jt-summary::before { content: \"▾\"; }\n",
      "\n",
      "#jt-4e44da67 .jt-key   { color: #1f2937; }\n",
      "#jt-4e44da67 .jt-punct { color: #94a3b8; }\n",
      "#jt-4e44da67 .jt-str   { color: #059669; }\n",
      "#jt-4e44da67 .jt-num   { color: #b45309; }\n",
      "#jt-4e44da67 .jt-bool  { color: #2563eb; }\n",
      "#jt-4e44da67 .jt-null  { color: #dc2626; }\n",
      "@media (prefers-color-scheme: dark) {\n",
      "  #jt-4e44da67 .jt-key { color: #e5e7eb; }\n",
      "}\n",
      "</style>\n",
      "<div id=\"jt-4e44da67\" class=\"jt\"><details class=\"jt-details\" open style=\"margin-left:0.0rem\"><summary class=\"jt-summary\">{} Object <span class=\"jt-punct\">(3)</span></summary><div class=\"jt-leaf\" style=\"margin-left:0.5rem\"><span class=\"jt-key\">\"name\"</span><span class=\"jt-punct\">: </span><span class=\"jt-str\">\"Acme Corp\"</span></div><details class=\"jt-details\" open style=\"margin-left:0.5rem\"><summary class=\"jt-summary\"><span class=\"jt-key\">\"employees\"</span><span class=\"jt-punct\">: </span>[] Array <span class=\"jt-punct\">(2)</span></summary><details class=\"jt-details\" style=\"margin-left:1.0rem\"><summary class=\"jt-summary\"><span class=\"jt-key\">[0]</span><span class=\"jt-punct\">: </span>{} Object <span class=\"jt-punct\">(2)</span></summary><div class=\"jt-leaf\" style=\"margin-left:1.5rem\"><span class=\"jt-key\">\"name\"</span><span class=\"jt-punct\">: </span><span class=\"jt-str\">\"Ada\"</span></div><details class=\"jt-details\" style=\"margin-left:1.5rem\"><summary class=\"jt-summary\"><span class=\"jt-key\">\"skills\"</span><span class=\"jt-punct\">: </span>[] Array <span class=\"jt-punct\">(2)</span></summary><div class=\"jt-leaf\" style=\"margin-left:2.0rem\"><span class=\"jt-key\">[0]</span><span class=\"jt-punct\">: </span><span class=\"jt-str\">\"CSS\"</span></div><div class=\"jt-leaf\" style=\"margin-left:2.0rem\"><span class=\"jt-key\">[1]</span><span class=\"jt-punct\">: </span><span class=\"jt-str\">\"JS\"</span></div></details></details><details class=\"jt-details\" style=\"margin-left:1.0rem\"><summary class=\"jt-summary\"><span class=\"jt-key\">[1]</span><span class=\"jt-punct\">: </span>{} Object <span class=\"jt-punct\">(2)</span></summary><div class=\"jt-leaf\" style=\"margin-left:1.5rem\"><span class=\"jt-key\">\"name\"</span><span class=\"jt-punct\">: </span><span class=\"jt-str\">\"Bob\"</span></div><details class=\"jt-details\" style=\"margin-left:1.5rem\"><summary class=\"jt-summary\"><span class=\"jt-key\">\"skills\"</span><span class=\"jt-punct\">: </span>[] Array <span class=\"jt-punct\">(0)</span></summary></details></details></details><details class=\"jt-details\" open style=\"margin-left:0.5rem\"><summary class=\"jt-summary\"><span class=\"jt-key\">\"meta\"</span><span class=\"jt-punct\">: </span>{} Object <span class=\"jt-punct\">(3)</span></summary><div class=\"jt-leaf\" style=\"margin-left:1.0rem\"><span class=\"jt-key\">\"founded\"</span><span class=\"jt-punct\">: </span><span class=\"jt-num\">2012</span></div><div class=\"jt-leaf\" style=\"margin-left:1.0rem\"><span class=\"jt-key\">\"active\"</span><span class=\"jt-punct\">: </span><span class=\"jt-bool\">true</span></div><div class=\"jt-leaf\" style=\"margin-left:1.0rem\"><span class=\"jt-key\">\"bar\"</span><span class=\"jt-punct\">: </span><span class=\"jt-null\">null</span></div></details></details></div>\n"
     ]
    }
   ],
   "source": [
    "print(json_to_html_tree(example, expand_depth=2))"
   ]
  },
  {
   "cell_type": "code",
   "execution_count": null,
   "id": "f2b66971",
   "metadata": {},
   "outputs": [],
   "source": []
  }
 ],
 "metadata": {
  "kernelspec": {
   "display_name": "json-tree",
   "language": "python",
   "name": "python3"
  },
  "language_info": {
   "codemirror_mode": {
    "name": "ipython",
    "version": 3
   },
   "file_extension": ".py",
   "mimetype": "text/x-python",
   "name": "python",
   "nbconvert_exporter": "python",
   "pygments_lexer": "ipython3",
   "version": "3.12.7"
  }
 },
 "nbformat": 4,
 "nbformat_minor": 5
}
